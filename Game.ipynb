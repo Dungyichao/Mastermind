{
 "cells": [
  {
   "cell_type": "code",
   "execution_count": 1,
   "metadata": {
    "collapsed": true
   },
   "outputs": [],
   "source": [
    "import random\n",
    "from itertools import permutations"
   ]
  },
  {
   "cell_type": "code",
   "execution_count": 2,
   "metadata": {
    "collapsed": true
   },
   "outputs": [],
   "source": [
    "# Generate 4 digit number without duplicate digit\n",
    "def givenum():\n",
    "    num = random.sample(range(0,9), 4)\n",
    "    return tuple(num)\n",
    "\n",
    "# Give the result of gussing regarding of the secret code, return A, B\n",
    "def playresult(notknow, guess):\n",
    "    A = 0\n",
    "    B = 0\n",
    "    for idx, val in enumerate(notknow):\n",
    "        for idx2, val2 in enumerate(guess):\n",
    "            if (idx == idx2 and val == val2):  # position & value are correct\n",
    "                A = A + 1\n",
    "            elif (val == val2):\n",
    "                B = B + 1\n",
    "    return A, B\n",
    "\n",
    "# Create a set of combination of 4 digit unique number\n",
    "def ini_population():\n",
    "    population = permutations([0,1,2,3,4,5,6,7,8,9], 4)\n",
    "    return list(population)"
   ]
  },
  {
   "cell_type": "code",
   "execution_count": 3,
   "metadata": {},
   "outputs": [
    {
     "name": "stdout",
     "output_type": "stream",
     "text": [
      "(4, 7, 3, 2)\n"
     ]
    }
   ],
   "source": [
    "# Create a code\n",
    "code = givenum()\n",
    "print(code)"
   ]
  },
  {
   "cell_type": "code",
   "execution_count": 4,
   "metadata": {},
   "outputs": [
    {
     "name": "stdout",
     "output_type": "stream",
     "text": [
      "16\n"
     ]
    }
   ],
   "source": [
    "# Initialize a set of code set containing possible answer\n",
    "code_set = ini_population()\n",
    "\n",
    "# Create a first guess randomly\n",
    "guess = tuple(random.sample(range(0,9), 4))\n",
    "# Get the A, B value with guess and code\n",
    "A, B = playresult(code, guess)\n",
    "\n",
    "# Initialize the play_count (record how many time we play)\n",
    "play_count = 1\n",
    "\n",
    "# Start cleaning the code_set until we find the real answer\n",
    "while(A < 4):\n",
    "    play_count = play_count + 1  # keep recording the time we play\n",
    "    for idx, val in enumerate(code_set):   # Check all the element in the code_set\n",
    "        a, b = playresult(val, guess)      # we assume val were the answer and compare with the guess\n",
    "        if(A != a or B != b):              # if a, b is not the same as A, B --> val is not answer\n",
    "            code_set.remove(val)           # remove the val from the code_set\n",
    "    guess = random.choice(code_set)        # Choose one code from the code_set as our guess for next play\n",
    "    A, B = playresult(code, guess)\n",
    "\n",
    "print(play_count)  # Print the value of how many time we play\n"
   ]
  }
 ],
 "metadata": {
  "kernelspec": {
   "display_name": "Python 3",
   "language": "python",
   "name": "python3"
  },
  "language_info": {
   "codemirror_mode": {
    "name": "ipython",
    "version": 3
   },
   "file_extension": ".py",
   "mimetype": "text/x-python",
   "name": "python",
   "nbconvert_exporter": "python",
   "pygments_lexer": "ipython3",
   "version": "3.6.1"
  }
 },
 "nbformat": 4,
 "nbformat_minor": 2
}
