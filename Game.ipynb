{
 "cells": [
  {
   "cell_type": "code",
   "execution_count": 50,
   "metadata": {
    "collapsed": true
   },
   "outputs": [],
   "source": [
    "import numpy as np\n",
    "import random\n",
    "from itertools import permutations"
   ]
  },
  {
   "cell_type": "code",
   "execution_count": 51,
   "metadata": {
    "collapsed": true
   },
   "outputs": [],
   "source": [
    "def givenum():\n",
    "    num = random.sample(range(0,9), 4)\n",
    "    return tuple(num)\n",
    "\n",
    "def playresult(notknow, guess):\n",
    "    A = 0\n",
    "    B = 0\n",
    "    for idx, val in enumerate(notknow):\n",
    "        for idx2, val2 in enumerate(guess):\n",
    "            if (idx == idx2 and val == val2):  # position & value are correct\n",
    "                A = A + 1\n",
    "            elif (val == val2):\n",
    "                B = B + 1\n",
    "    return A, B\n",
    "\n",
    "def ini_population():\n",
    "    population = permutations([0,1,2,3,4,5,6,7,8,9], 4)\n",
    "    return list(population)"
   ]
  },
  {
   "cell_type": "code",
   "execution_count": 57,
   "metadata": {},
   "outputs": [
    {
     "name": "stdout",
     "output_type": "stream",
     "text": [
      "(6, 8, 5, 4)\n"
     ]
    }
   ],
   "source": [
    "code = givenum()\n",
    "print(code)"
   ]
  },
  {
   "cell_type": "code",
   "execution_count": 58,
   "metadata": {},
   "outputs": [
    {
     "name": "stdout",
     "output_type": "stream",
     "text": [
      "15\n",
      "(6, 8, 5, 4)\n"
     ]
    }
   ],
   "source": [
    "code_set = ini_population()\n",
    "guess = tuple(random.sample(range(0,9), 4))\n",
    "A, B = playresult(code, guess)\n",
    "play_count = 1\n",
    "while(A < 4):\n",
    "    play_count = play_count + 1\n",
    "    for idx, val in enumerate(code_set):\n",
    "        a, b = playresult(val, guess)\n",
    "        if(A != a or B != b):\n",
    "            code_set.remove(val)\n",
    "    guess = random.choice(code_set)\n",
    "    A, B = playresult(code, guess)\n",
    "\n",
    "print(play_count)\n",
    "print(guess)"
   ]
  }
 ],
 "metadata": {
  "kernelspec": {
   "display_name": "Python 3",
   "language": "python",
   "name": "python3"
  },
  "language_info": {
   "codemirror_mode": {
    "name": "ipython",
    "version": 3
   },
   "file_extension": ".py",
   "mimetype": "text/x-python",
   "name": "python",
   "nbconvert_exporter": "python",
   "pygments_lexer": "ipython3",
   "version": "3.6.1"
  }
 },
 "nbformat": 4,
 "nbformat_minor": 2
}
