{
 "cells": [
  {
   "cell_type": "code",
   "execution_count": null,
   "metadata": {
    "collapsed": true
   },
   "outputs": [],
   "source": [
    "import random\n",
    "from itertools import permutations\n",
    "import numpy as np\n",
    "import pandas as pd"
   ]
  },
  {
   "cell_type": "code",
   "execution_count": null,
   "metadata": {
    "collapsed": true
   },
   "outputs": [],
   "source": [
    "def givenum():\n",
    "    num = random.sample(range(0,9), 4)\n",
    "    return tuple(num)\n",
    "\n",
    "def playresult(notknow, guess):\n",
    "    A = 0\n",
    "    B = 0\n",
    "    for idx, val in enumerate(notknow):\n",
    "        for idx2, val2 in enumerate(guess):\n",
    "            if (idx == idx2 and val == val2):  # position & value are correct\n",
    "                A = A + 1\n",
    "            elif (val == val2):\n",
    "                B = B + 1\n",
    "    return A, B\n",
    "\n",
    "\n",
    "def chooseone(code_set):\n",
    "    remain_table = np.zeros(len(code_set))\n",
    "    for idx, val in enumerate(code_set):\n",
    "        code_idx = [j for j in range(len(code_set))]\n",
    "        code_idx.remove(idx)\n",
    "        if (len(code_idx) > 100):\n",
    "            S = random.sample(code_idx, 100)\n",
    "        else:\n",
    "            S = random.sample(code_idx, len(code_idx))\n",
    "        remain = 0\n",
    "        for idxx in S:   #  each idxx acts like answer\n",
    "            A, B = playresult(code_set[idxx], code_set[idx])\n",
    "            for k in S:\n",
    "                a, b = playresult(code_set[k], code_set[idx])\n",
    "                if (a == A and b == B):\n",
    "                    remain = remain + 1\n",
    "        remain_table[idx] = remain\n",
    "    mindex = np.argmin(remain_table)\n",
    "    return code_set[mindex]\n",
    "\n",
    "def ini_population():\n",
    "    population = permutations([0,1,2,3,4,5,6,7,8,9], 4)\n",
    "    return list(population)"
   ]
  },
  {
   "cell_type": "code",
   "execution_count": null,
   "metadata": {
    "collapsed": true
   },
   "outputs": [],
   "source": [
    "play_number = 10000  # how many time we want to play\n",
    "total_num = 0  # store the value of the total number of guessing through all the play\n",
    "for i in range(play_number): # start playing each game\n",
    "    code = givenum()  # Create a code\n",
    "    code_set = ini_population()  # Initialize a set of code set containing possible answer\n",
    "    \n",
    "    play_count = 0  # store the value of the number of guessing in this play\n",
    "    \n",
    "    ini_process = 0  # To enter the while loop\n",
    "    A = 0  # To enter the while loop\n",
    "    ini_play_set = [(1,2,3,4),(5,6,7,8),(9,0,1,5)]   # The fix code we play for the first 3 play\n",
    "    while(ini_process < 3 and A < 4):  # while in first three play and the answer not yet obtained\n",
    "        play_count = play_count + 1  # keep recording the time we play \n",
    "        guess = ini_play_set[ini_process]  # using the fix code to play\n",
    "        A, B = playresult(code, guess)  # Get the A, B value with guess and code\n",
    "        for idx, val in enumerate(code_set):  # Check all the element in the code_set\n",
    "            a, b = playresult(val, guess)  # we assume val were the answer and compare with the guess\n",
    "            if(A != a or B != b):   # if a, b is not the same as A, B --> val is not answer\n",
    "                code_set.remove(val)   # remove the val from the code_set\n",
    "        ini_process = ini_process + 1  # move to the next fix code set\n",
    "    \n",
    "    \n",
    "    while(A < 4):  # Still cleaning the code_set until we find the real answer\n",
    "        play_count = play_count + 1 \n",
    "        for idx, val in enumerate(code_set):\n",
    "            a, b = playresult(val, guess)  \n",
    "            if(A != a or B != b): \n",
    "                code_set.remove(val)  \n",
    "        guess = chooseone(code_set)  # We use the chooseone function to pick the element in the code set for next play\n",
    "        A, B = playresult(code, guess) \n",
    "    # Store the data to csv\n",
    "    with open('./mastermind/result.csv', 'a') as f:  \n",
    "        df = pd.DataFrame([play_count])\n",
    "        df.to_csv(f, header=False)    \n",
    "        \n",
    "    total_num = total_num + play_count  # add the total number of playing to total_num\n",
    "    \n",
    "print(\"Average number of count: \", total_num / play_number)   # show the average number of guessing"
   ]
  }
 ],
 "metadata": {
  "kernelspec": {
   "display_name": "Python 3",
   "language": "python",
   "name": "python3"
  },
  "language_info": {
   "codemirror_mode": {
    "name": "ipython",
    "version": 3
   },
   "file_extension": ".py",
   "mimetype": "text/x-python",
   "name": "python",
   "nbconvert_exporter": "python",
   "pygments_lexer": "ipython3",
   "version": "3.6.1"
  }
 },
 "nbformat": 4,
 "nbformat_minor": 2
}
