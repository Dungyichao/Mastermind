{
 "cells": [
  {
   "cell_type": "code",
   "execution_count": 18,
   "metadata": {},
   "outputs": [
    {
     "name": "stdout",
     "output_type": "stream",
     "text": [
      "(3, 6, 7, 8) ?\n",
      "0 bulls 2 cows\n",
      "1260\n",
      "(7, 2, 3, 0) ?\n",
      "1 bulls 0 cows\n",
      "128\n",
      "(4, 1, 3, 6) ?\n",
      "0 bulls 1 cows\n",
      "28\n",
      "(8, 9, 6, 0) ?\n",
      "3 bulls 0 cows\n",
      "1\n",
      "(8, 5, 6, 0) ?\n",
      "you won\n",
      "0\n"
     ]
    }
   ],
   "source": [
    "import random\n",
    "from itertools import permutations\n",
    "import numpy as np\n",
    "import pandas as pd\n",
    "\n",
    "def givenum():\n",
    "    num = random.sample(range(0,9), 4)\n",
    "    return tuple(num)\n",
    "\n",
    "def playresult(notknow, guess):\n",
    "    A = 0\n",
    "    B = 0\n",
    "    for idx, val in enumerate(notknow):\n",
    "        for idx2, val2 in enumerate(guess):\n",
    "            if (idx == idx2 and val == val2):  # position & value are correct\n",
    "                A = A + 1\n",
    "            elif (val == val2):\n",
    "                B = B + 1\n",
    "    return A, B\n",
    "\n",
    "\n",
    "def chooseone(code_set):\n",
    "    remain_table = np.zeros(len(code_set))\n",
    "    for idx, val in enumerate(code_set):\n",
    "        code_idx = [j for j in range(len(code_set))]\n",
    "        code_idx.remove(idx)\n",
    "        if (len(code_idx) > 100):\n",
    "            S = random.sample(code_idx, 100)\n",
    "        else:\n",
    "            S = random.sample(code_idx, len(code_idx))\n",
    "        remain = 0\n",
    "        for idxx in S:   #  each idxx acts like answer\n",
    "            A, B = playresult(code_set[idxx], code_set[idx])\n",
    "            for k in S:\n",
    "                a, b = playresult(code_set[k], code_set[idx])\n",
    "                if (a == A and b == B):\n",
    "                    remain = remain + 1\n",
    "        remain_table[idx] = remain\n",
    "    mindex = np.argmin(remain_table)\n",
    "    return code_set[mindex]\n",
    "\n",
    "def ini_population():\n",
    "    population = permutations([0,1,2,3,4,5,6,7,8,9], 4)\n",
    "    return list(population)\n",
    "\n",
    "\n",
    "play_number = 10000  # how many time we want to play\n",
    "total_num = 0  # store the value of the total number of guessing through all the play\n",
    "for i in range(play_number):  # start playing each game\n",
    "    code = givenum()  # Create a code\n",
    "    code_set = ini_population()  # Initialize a set of code set containing possible answer\n",
    "\n",
    "    # Create a first guess randomly\n",
    "    guess = tuple(random.sample(range(0, 9), 4))\n",
    "    # Get the A, B value with guess and code\n",
    "    A, B = playresult(code, guess)\n",
    "    play_count = 1  # store the value of the number of guessing in this play\n",
    "\n",
    "    while (A < 4):  # Still cleaning the code_set until we find the real answer\n",
    "        play_count = play_count + 1\n",
    "        code_set = [t for t in code_set if playresult(t, guess) == (A, B)]\n",
    "        guess = chooseone(code_set)  # We use the chooseone function to pick the element in the code set for next play\n",
    "        A, B = playresult(code, guess)\n",
    "        # Store the data to csv\n",
    "    with open('./mastermind/mastermind_final.csv', 'a') as f:\n",
    "        df = pd.DataFrame([play_count])\n",
    "        df.to_csv(f, header=False)\n",
    "\n",
    "    total_num = total_num + play_count  # add the total number of playing to total_num\n",
    "\n",
    "print(\"Average number of count: \", total_num / play_number)  # show the average number of guessing"
   ]
  },
  {
   "cell_type": "code",
   "execution_count": null,
   "metadata": {
    "collapsed": true
   },
   "outputs": [],
   "source": []
  }
 ],
 "metadata": {
  "kernelspec": {
   "display_name": "Python 3",
   "language": "python",
   "name": "python3"
  },
  "language_info": {
   "codemirror_mode": {
    "name": "ipython",
    "version": 3
   },
   "file_extension": ".py",
   "mimetype": "text/x-python",
   "name": "python",
   "nbconvert_exporter": "python",
   "pygments_lexer": "ipython3",
   "version": "3.6.1"
  }
 },
 "nbformat": 4,
 "nbformat_minor": 2
}
